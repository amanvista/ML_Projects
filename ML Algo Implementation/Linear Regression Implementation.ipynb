{
 "cells": [
  {
   "cell_type": "code",
   "execution_count": 128,
   "metadata": {},
   "outputs": [],
   "source": [
    "import numpy as np\n",
    "import matplotlib.pyplot as plt"
   ]
  },
  {
   "cell_type": "markdown",
   "metadata": {},
   "source": [
    "# Gradient Desent for Simple Linear Regression "
   ]
  },
  {
   "cell_type": "code",
   "execution_count": 201,
   "metadata": {},
   "outputs": [
    {
     "name": "stdout",
     "output_type": "stream",
     "text": [
      "[1 2 3 4 5]\n",
      "[5, 7, 9, 11, 13]\n"
     ]
    }
   ],
   "source": [
    "lr = 0.003\n",
    "iterations = 1000\n",
    "n = 10\n",
    "X = np.arange(1,6)\n",
    "print(X)    \n",
    "y = [ 5,7,9,11,13 ]\n",
    "print(y)\n",
    "weight = 0\n",
    "bias = 0"
   ]
  },
  {
   "cell_type": "code",
   "execution_count": 202,
   "metadata": {},
   "outputs": [],
   "source": [
    "for i in range(iterations):\n",
    "    pred = X*weight + bias\n",
    "    cost = (1/n)*sum((y - pred)**2)\n",
    "    dw = -(2/n)*sum(X*(y - pred))\n",
    "    db = -(2/n)*sum((y - pred))\n",
    "    weight = weight - dw*lr\n",
    "    bias = bias - db*lr\n",
    "#     print(\"Cost at iteration\",i,\":\",cost)\n"
   ]
  },
  {
   "cell_type": "markdown",
   "metadata": {},
   "source": [
    "## Prediction after Training"
   ]
  },
  {
   "cell_type": "code",
   "execution_count": 203,
   "metadata": {},
   "outputs": [
    {
     "name": "stdout",
     "output_type": "stream",
     "text": [
      "[ 4.   6.4  8.8 11.1 13.5]\n",
      "[5, 7, 9, 11, 13]\n"
     ]
    }
   ],
   "source": [
    "pred = X*weight + bias\n",
    "print(np.round(pred,1))\n",
    "print(y)"
   ]
  },
  {
   "cell_type": "code",
   "execution_count": 204,
   "metadata": {},
   "outputs": [
    {
     "data": {
      "text/plain": [
       "Text(0, 0.5, 'Predicted Y')"
      ]
     },
     "execution_count": 204,
     "metadata": {},
     "output_type": "execute_result"
    },
    {
     "data": {
      "image/png": "[encoded data removed]",
      "text/plain": [
       "<Figure size 432x288 with 1 Axes>"
      ]
     },
     "metadata": {
      "needs_background": "light"
     },
     "output_type": "display_data"
    }
   ],
   "source": [
    "plt.scatter(y,pred)\n",
    "plt.xlabel('Y')\n",
    "plt.ylabel('Predicted Y')"
   ]
  },
  {
   "cell_type": "markdown",
   "metadata": {},
   "source": [
    "# Gradient Descent for Multiple Linear Regression"
   ]
  },
  {
   "cell_type": "code",
   "execution_count": 239,
   "metadata": {},
   "outputs": [
    {
     "name": "stdout",
     "output_type": "stream",
     "text": [
      "[[4 2 2]\n",
      " [2 2 3]\n",
      " [1 3 5]\n",
      " [4 5 5]\n",
      " [3 2 3]\n",
      " [2 2 1]\n",
      " [5 5 2]\n",
      " [2 3 4]\n",
      " [1 5 2]\n",
      " [1 3 3]]\n",
      "[[ 5]\n",
      " [15]\n",
      " [29]\n",
      " [20]\n",
      " [21]\n",
      " [23]\n",
      " [13]\n",
      " [ 6]\n",
      " [24]\n",
      " [12]]\n"
     ]
    }
   ],
   "source": [
    "lr = 0.01\n",
    "iterations = 100\n",
    "n = 10\n",
    "no_of_features = 3\n",
    "X = [ [np.random.randint(1,6) for _ in range(no_of_features)] for _ in range(n)] \n",
    "X = np.array(X)\n",
    "print(X)    \n",
    "y = [ np.random.randint(1,30) for _ in range(n) ]\n",
    "y = np.array(y)\n",
    "y = y[:,np.newaxis]\n",
    "print(y)\n",
    "weight = np.zeros(no_of_features)\n",
    "weight = weight[:,np.newaxis]\n",
    "\n",
    "bias = 0"
   ]
  },
  {
   "cell_type": "code",
   "execution_count": 240,
   "metadata": {},
   "outputs": [
    {
     "data": {
      "text/plain": [
       "(3, 1)"
      ]
     },
     "execution_count": 240,
     "metadata": {},
     "output_type": "execute_result"
    }
   ],
   "source": [
    "weight.shape"
   ]
  },
  {
   "cell_type": "code",
   "execution_count": 241,
   "metadata": {},
   "outputs": [
    {
     "data": {
      "text/plain": [
       "(10, 3)"
      ]
     },
     "execution_count": 241,
     "metadata": {},
     "output_type": "execute_result"
    }
   ],
   "source": [
    "X.shape"
   ]
  },
  {
   "cell_type": "code",
   "execution_count": 242,
   "metadata": {},
   "outputs": [
    {
     "data": {
      "text/plain": [
       "array([[0., 0., 0.],\n",
       "       [0., 0., 0.],\n",
       "       [0., 0., 0.],\n",
       "       [0., 0., 0.],\n",
       "       [0., 0., 0.],\n",
       "       [0., 0., 0.],\n",
       "       [0., 0., 0.],\n",
       "       [0., 0., 0.],\n",
       "       [0., 0., 0.],\n",
       "       [0., 0., 0.]])"
      ]
     },
     "execution_count": 242,
     "metadata": {},
     "output_type": "execute_result"
    }
   ],
   "source": [
    "weight.T * X"
   ]
  },
  {
   "cell_type": "code",
   "execution_count": 243,
   "metadata": {},
   "outputs": [
    {
     "name": "stdout",
     "output_type": "stream",
     "text": [
      "[338.6]\n",
      "[209.7341169]\n",
      "[143.49939099]\n",
      "[109.35757936]\n",
      "[91.66386298]\n",
      "[82.40323915]\n",
      "[77.4694213]\n",
      "[74.75854271]\n",
      "[73.19257266]\n",
      "[72.21901847]\n",
      "[71.55462564]\n",
      "[71.05407681]\n",
      "[70.64272673]\n",
      "[70.28214251]\n",
      "[69.95244985]\n",
      "[69.64328885]\n",
      "[69.34918044]\n",
      "[69.06715242]\n",
      "[68.795523]\n",
      "[68.53327743]\n",
      "[68.27974838]\n",
      "[68.03445205]\n",
      "[67.79700391]\n",
      "[67.56707543]\n",
      "[67.34437164]\n",
      "[67.1286195]\n",
      "[66.91956174]\n",
      "[66.71695354]\n",
      "[66.52056066]\n",
      "[66.33015833]\n",
      "[66.14553052]\n",
      "[65.96646943]\n",
      "[65.79277508]\n",
      "[65.62425496]\n",
      "[65.46072372]\n",
      "[65.3020029]\n",
      "[65.14792065]\n",
      "[64.9983115]\n",
      "[64.8530161]\n",
      "[64.71188097]\n",
      "[64.57475833]\n",
      "[64.44150582]\n",
      "[64.31198638]\n",
      "[64.18606795]\n",
      "[64.06362336]\n",
      "[63.94453013]\n",
      "[63.82867027]\n",
      "[63.71593011]\n",
      "[63.6062002]\n",
      "[63.49937505]\n",
      "[63.39535308]\n",
      "[63.2940364]\n",
      "[63.19533073]\n",
      "[63.09914522]\n",
      "[63.00539235]\n",
      "[62.91398777]\n",
      "[62.82485023]\n",
      "[62.73790145]\n",
      "[62.65306596]\n",
      "[62.57027106]\n",
      "[62.4894467]\n",
      "[62.41052536]\n",
      "[62.33344197]\n",
      "[62.25813381]\n",
      "[62.18454043]\n",
      "[62.11260359]\n",
      "[62.04226713]\n",
      "[61.97347691]\n",
      "[61.90618076]\n",
      "[61.84032838]\n",
      "[61.77587127]\n",
      "[61.71276269]\n",
      "[61.65095757]\n",
      "[61.59041244]\n",
      "[61.53108541]\n",
      "[61.47293606]\n",
      "[61.41592545]\n",
      "[61.36001599]\n",
      "[61.30517146]\n",
      "[61.2513569]\n",
      "[61.19853862]\n",
      "[61.1466841]\n",
      "[61.095762]\n",
      "[61.04574206]\n",
      "[60.99659512]\n",
      "[60.94829302]\n",
      "[60.9008086]\n",
      "[60.85411568]\n",
      "[60.80818896]\n",
      "[60.76300406]\n",
      "[60.71853745]\n",
      "[60.6747664]\n",
      "[60.63166901]\n",
      "[60.58922411]\n",
      "[60.54741129]\n",
      "[60.50621085]\n",
      "[60.46560374]\n",
      "[60.42557163]\n",
      "[60.38609677]\n",
      "[60.34716204]\n"
     ]
    }
   ],
   "source": [
    " # gradient descent\n",
    "for _ in range(iterations):\n",
    "    y_predicted = np.dot(X, weight) + bias\n",
    "    cost = (1/n)*sum(np.square(y_predicted - y))\n",
    "    print(cost)\n",
    "    # compute gradients\n",
    "    dw = (1 / n) * np.dot(X.T, (y_predicted - y))\n",
    "    db = (1 / n) * np.sum(y_predicted - y)\n",
    "    # update parameters\n",
    "    weight = weight - lr * dw\n",
    "    bias = bias - lr * db"
   ]
  },
  {
   "cell_type": "code",
   "execution_count": 244,
   "metadata": {},
   "outputs": [],
   "source": [
    "from sklearn.metrics import mean_squared_error, r2_score\n",
    "mse = mean_squared_error(y, y_predicted)"
   ]
  },
  {
   "cell_type": "code",
   "execution_count": 245,
   "metadata": {},
   "outputs": [
    {
     "data": {
      "text/plain": [
       "60.34716204367602"
      ]
     },
     "execution_count": 245,
     "metadata": {},
     "output_type": "execute_result"
    }
   ],
   "source": [
    "mse"
   ]
  },
  {
   "cell_type": "code",
   "execution_count": 246,
   "metadata": {},
   "outputs": [
    {
     "data": {
      "text/plain": [
       "-0.07074453590624596"
      ]
     },
     "execution_count": 246,
     "metadata": {},
     "output_type": "execute_result"
    }
   ],
   "source": [
    "r_squared = r2_score(y, y_predicted)\n",
    "r_squared"
   ]
  },
  {
   "cell_type": "markdown",
   "metadata": {},
   "source": [
    "# Multiple Linear Regression with using Matrices Only"
   ]
  },
  {
   "cell_type": "code",
   "execution_count": 256,
   "metadata": {},
   "outputs": [
    {
     "data": {
      "text/plain": [
       "array([[1., 2., 1., 1.],\n",
       "       [1., 1., 3., 2.],\n",
       "       [1., 3., 3., 4.],\n",
       "       [1., 4., 3., 1.],\n",
       "       [1., 2., 3., 3.],\n",
       "       [1., 2., 1., 5.],\n",
       "       [1., 3., 1., 1.],\n",
       "       [1., 1., 5., 5.],\n",
       "       [1., 2., 5., 1.],\n",
       "       [1., 2., 4., 1.]])"
      ]
     },
     "execution_count": 256,
     "metadata": {},
     "output_type": "execute_result"
    }
   ],
   "source": [
    "lr = 0.01\n",
    "iterations = 100\n",
    "n = 10\n",
    "no_of_features = 3\n",
    "X = [ [np.random.randint(1,6) for _ in range(no_of_features)] for _ in range(n)] \n",
    "X = np.array(X)\n",
    "# print(X)    \n",
    "y = [ np.random.randint(1,30) for _ in range(n) ]\n",
    "y = np.array(y)\n",
    "y = y[:,np.newaxis]\n",
    "# print(y)\n",
    "weight = np.zeros(no_of_features+1)\n",
    "weight = weight[:,np.newaxis]\n",
    "\n",
    "ones = np.ones(10)\n",
    "ones = ones[:,np.newaxis]\n",
    "X_new = np.append(ones, X, axis=1)\n",
    "X_new"
   ]
  },
  {
   "cell_type": "code",
   "execution_count": 257,
   "metadata": {},
   "outputs": [
    {
     "name": "stdout",
     "output_type": "stream",
     "text": [
      "[278.5]\n",
      "[197.7579511]\n",
      "[147.67813423]\n",
      "[116.50968384]\n",
      "[97.00947392]\n",
      "[84.71272296]\n",
      "[76.86708959]\n",
      "[71.77570721]\n",
      "[68.39226598]\n",
      "[66.07144288]\n",
      "[64.41507974]\n",
      "[63.17737515]\n",
      "[62.20644909]\n",
      "[61.40832594]\n",
      "[60.72473485]\n",
      "[60.11942645]\n",
      "[59.56973848]\n",
      "[59.06139683]\n",
      "[58.58531044]\n",
      "[58.13559536]\n",
      "[57.70835633]\n",
      "[57.30093527]\n",
      "[56.91144759]\n",
      "[56.53849595]\n",
      "[56.18099333]\n",
      "[55.83805358]\n",
      "[55.50892351]\n",
      "[55.1929407]\n",
      "[54.88950702]\n",
      "[54.59807201]\n",
      "[54.31812227]\n",
      "[54.04917462]\n",
      "[53.79077147]\n",
      "[53.54247777]\n",
      "[53.3038788]\n",
      "[53.07457849]\n",
      "[52.85419819]\n",
      "[52.64237558]\n",
      "[52.43876386]\n",
      "[52.24303088]\n",
      "[52.05485851]\n",
      "[51.87394198]\n",
      "[51.69998925]\n",
      "[51.53272049]\n",
      "[51.37186751]\n",
      "[51.21717329]\n",
      "[51.06839145]\n",
      "[50.92528586]\n",
      "[50.78763014]\n",
      "[50.65520725]\n",
      "[50.52780915]\n",
      "[50.40523635]\n",
      "[50.28729756]\n",
      "[50.17380937]\n",
      "[50.06459589]\n",
      "[49.95948844]\n",
      "[49.85832525]\n",
      "[49.76095115]\n",
      "[49.66721731]\n",
      "[49.57698097]\n",
      "[49.49010517]\n",
      "[49.40645852]\n",
      "[49.32591497]\n",
      "[49.24835356]\n",
      "[49.17365824]\n",
      "[49.10171765]\n",
      "[49.03242491]\n",
      "[48.96567747]\n",
      "[48.90137687]\n",
      "[48.83942863]\n",
      "[48.77974206]\n",
      "[48.7222301]\n",
      "[48.66680916]\n",
      "[48.613399]\n",
      "[48.56192257]\n",
      "[48.51230591]\n",
      "[48.46447797]\n",
      "[48.41837054]\n",
      "[48.3739181]\n",
      "[48.33105774]\n",
      "[48.28972902]\n",
      "[48.24987389]\n",
      "[48.21143659]\n",
      "[48.17436356]\n",
      "[48.13860332]\n",
      "[48.10410643]\n",
      "[48.07082538]\n",
      "[48.03871452]\n",
      "[48.00772996]\n",
      "[47.97782956]\n",
      "[47.9489728]\n",
      "[47.92112071]\n",
      "[47.89423587]\n",
      "[47.8682823]\n",
      "[47.84322539]\n",
      "[47.81903189]\n",
      "[47.79566982]\n",
      "[47.77310845]\n",
      "[47.7513182]\n",
      "[47.73027064]\n"
     ]
    }
   ],
   "source": [
    " # gradient descent\n",
    "for _ in range(iterations):\n",
    "    y_predicted = np.dot(X_new, weight)\n",
    "    cost = (1/n)*sum(np.square(y_predicted - y))\n",
    "    print(cost)\n",
    "    # compute gradients\n",
    "    dw = (1 / n) * np.dot(X_new.T, (y_predicted - y))\n",
    "    # update parameters\n",
    "    weight = weight - lr * dw"
   ]
  },
  {
   "cell_type": "code",
   "execution_count": 259,
   "metadata": {},
   "outputs": [
    {
     "data": {
      "text/plain": [
       "array([[0.81001117],\n",
       "       [3.77810914],\n",
       "       [1.85918414],\n",
       "       [0.02663759]])"
      ]
     },
     "execution_count": 259,
     "metadata": {},
     "output_type": "execute_result"
    }
   ],
   "source": [
    "weight"
   ]
  },
  {
   "cell_type": "code",
   "execution_count": 261,
   "metadata": {},
   "outputs": [
    {
     "data": {
      "text/plain": [
       "47.730270643999575"
      ]
     },
     "execution_count": 261,
     "metadata": {},
     "output_type": "execute_result"
    }
   ],
   "source": [
    "from sklearn.metrics import mean_squared_error, r2_score\n",
    "mse = mean_squared_error(y, y_predicted)\n",
    "mse"
   ]
  },
  {
   "cell_type": "code",
   "execution_count": 262,
   "metadata": {},
   "outputs": [
    {
     "data": {
      "text/plain": [
       "0.30065537517949337"
      ]
     },
     "execution_count": 262,
     "metadata": {},
     "output_type": "execute_result"
    }
   ],
   "source": [
    "r_squared = r2_score(y, y_predicted)\n",
    "r_squared"
   ]
  },
  {
   "cell_type": "code",
   "execution_count": null,
   "metadata": {},
   "outputs": [],
   "source": []
  }
 ],
 "metadata": {
  "kernelspec": {
   "display_name": "Python 3",
   "language": "python",
   "name": "python3"
  },
  "language_info": {
   "codemirror_mode": {
    "name": "ipython",
    "version": 3
   },
   "file_extension": ".py",
   "mimetype": "text/x-python",
   "name": "python",
   "nbconvert_exporter": "python",
   "pygments_lexer": "ipython3",
   "version": "3.7.4"
  }
 },
 "nbformat": 4,
 "nbformat_minor": 2
}
