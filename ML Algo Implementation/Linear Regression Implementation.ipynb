{
 "cells": [
  {
   "cell_type": "code",
   "execution_count": 267,
   "metadata": {},
   "outputs": [],
   "source": [
    "import numpy as np\n",
    "import matplotlib.pyplot as plt"
   ]
  },
  {
   "cell_type": "markdown",
   "metadata": {},
   "source": [
    "# Gradient Desent for Simple Linear Regression "
   ]
  },
  {
   "cell_type": "code",
   "execution_count": 282,
   "metadata": {},
   "outputs": [
    {
     "name": "stdout",
     "output_type": "stream",
     "text": [
      "[1 2 3 4 5]\n",
      "[5, 7, 9, 11, 13]\n"
     ]
    }
   ],
   "source": [
    "lr = 0.0003\n",
    "iterations = 1000\n",
    "n = 10\n",
    "X = np.arange(1,6)\n",
    "print(X)    \n",
    "y = [ 5,7,9,11,13 ]\n",
    "print(y)\n",
    "weight = 0\n",
    "bias = 0"
   ]
  },
  {
   "cell_type": "code",
   "execution_count": 283,
   "metadata": {},
   "outputs": [],
   "source": [
    "a_cost = []\n",
    "for i in range(iterations):\n",
    "    pred = X*weight + bias\n",
    "    cost = (1/n)*sum((y - pred)**2)\n",
    "    a_cost.append(cost)\n",
    "    dw = -(2/n)*sum(X*(y - pred))\n",
    "    db = -(2/n)*sum((y - pred))\n",
    "    weight = weight - dw*lr\n",
    "    bias = bias - db*lr\n",
    "#     print(\"Cost at iteration\",i,\":\",cost)\n"
   ]
  },
  {
   "cell_type": "code",
   "execution_count": 284,
   "metadata": {},
   "outputs": [
    {
     "data": {
      "image/png": "[encoded data removed]",
      "text/plain": [
       "<Figure size 432x288 with 1 Axes>"
      ]
     },
     "metadata": {
      "needs_background": "light"
     },
     "output_type": "display_data"
    }
   ],
   "source": [
    "x = np.arange(iterations)\n",
    "len(a_cost)\n",
    "len(x)\n",
    "plt.plot(x,a_cost)\n",
    "plt.xlabel('Iterations')\n",
    "plt.ylabel('Error')\n",
    "plt.show()"
   ]
  },
  {
   "cell_type": "markdown",
   "metadata": {},
   "source": [
    "## Prediction after Training"
   ]
  },
  {
   "cell_type": "code",
   "execution_count": 203,
   "metadata": {},
   "outputs": [
    {
     "name": "stdout",
     "output_type": "stream",
     "text": [
      "[ 4.   6.4  8.8 11.1 13.5]\n",
      "[5, 7, 9, 11, 13]\n"
     ]
    }
   ],
   "source": [
    "pred = X*weight + bias\n",
    "print(np.round(pred,1))\n",
    "print(y)"
   ]
  },
  {
   "cell_type": "code",
   "execution_count": 204,
   "metadata": {},
   "outputs": [
    {
     "data": {
      "text/plain": [
       "Text(0, 0.5, 'Predicted Y')"
      ]
     },
     "execution_count": 204,
     "metadata": {},
     "output_type": "execute_result"
    },
    {
     "data": {
      "image/png": "[encoded data removed]",
      "text/plain": [
       "<Figure size 432x288 with 1 Axes>"
      ]
     },
     "metadata": {
      "needs_background": "light"
     },
     "output_type": "display_data"
    }
   ],
   "source": [
    "plt.scatter(y,pred)\n",
    "plt.xlabel('Y')\n",
    "plt.ylabel('Predicted Y')"
   ]
  },
  {
   "cell_type": "markdown",
   "metadata": {},
   "source": [
    "# Gradient Descent for Multiple Linear Regression"
   ]
  },
  {
   "cell_type": "code",
   "execution_count": 293,
   "metadata": {},
   "outputs": [
    {
     "name": "stdout",
     "output_type": "stream",
     "text": [
      "[[5 1 2]\n",
      " [5 4 1]\n",
      " [3 5 3]\n",
      " [4 4 5]\n",
      " [2 5 3]\n",
      " [2 4 1]\n",
      " [2 1 4]\n",
      " [3 2 2]\n",
      " [2 3 1]\n",
      " [1 4 1]]\n",
      "[[25]\n",
      " [20]\n",
      " [ 2]\n",
      " [22]\n",
      " [21]\n",
      " [28]\n",
      " [26]\n",
      " [18]\n",
      " [ 5]\n",
      " [23]]\n"
     ]
    }
   ],
   "source": [
    "lr = 0.01\n",
    "iterations = 100\n",
    "n = 10\n",
    "no_of_features = 3\n",
    "X = [ [np.random.randint(1,6) for _ in range(no_of_features)] for _ in range(n)] \n",
    "X = np.array(X)\n",
    "print(X)    \n",
    "y = [ np.random.randint(1,30) for _ in range(n) ]\n",
    "y = np.array(y)\n",
    "y = y[:,np.newaxis]\n",
    "print(y)\n",
    "weight = np.zeros(no_of_features)\n",
    "weight = weight[:,np.newaxis]\n",
    "\n",
    "bias = 0"
   ]
  },
  {
   "cell_type": "code",
   "execution_count": 294,
   "metadata": {},
   "outputs": [
    {
     "data": {
      "text/plain": [
       "(3, 1)"
      ]
     },
     "execution_count": 294,
     "metadata": {},
     "output_type": "execute_result"
    }
   ],
   "source": [
    "weight.shape"
   ]
  },
  {
   "cell_type": "code",
   "execution_count": 295,
   "metadata": {},
   "outputs": [
    {
     "data": {
      "text/plain": [
       "(10, 3)"
      ]
     },
     "execution_count": 295,
     "metadata": {},
     "output_type": "execute_result"
    }
   ],
   "source": [
    "X.shape"
   ]
  },
  {
   "cell_type": "code",
   "execution_count": 296,
   "metadata": {},
   "outputs": [
    {
     "data": {
      "text/plain": [
       "array([[0., 0., 0.],\n",
       "       [0., 0., 0.],\n",
       "       [0., 0., 0.],\n",
       "       [0., 0., 0.],\n",
       "       [0., 0., 0.],\n",
       "       [0., 0., 0.],\n",
       "       [0., 0., 0.],\n",
       "       [0., 0., 0.],\n",
       "       [0., 0., 0.],\n",
       "       [0., 0., 0.]])"
      ]
     },
     "execution_count": 296,
     "metadata": {},
     "output_type": "execute_result"
    }
   ],
   "source": [
    "weight.T * X"
   ]
  },
  {
   "cell_type": "code",
   "execution_count": 297,
   "metadata": {},
   "outputs": [],
   "source": [
    " # gradient descent\n",
    "a_cost = []\n",
    "\n",
    "for _ in range(iterations):\n",
    "    y_predicted = np.dot(X, weight) + bias\n",
    "    cost = (1/n)*sum(np.square(y_predicted - y))\n",
    "    a_cost.append(cost)\n",
    "#     print(cost)\n",
    "    # compute gradients\n",
    "    dw = (1 / n) * np.dot(X.T, (y_predicted - y))\n",
    "    db = (1 / n) * np.sum(y_predicted - y)\n",
    "    # update parameters\n",
    "    weight = weight - lr * dw\n",
    "    bias = bias - lr * db"
   ]
  },
  {
   "cell_type": "code",
   "execution_count": 298,
   "metadata": {},
   "outputs": [],
   "source": [
    "from sklearn.metrics import mean_squared_error, r2_score\n",
    "mse = mean_squared_error(y, y_predicted)"
   ]
  },
  {
   "cell_type": "code",
   "execution_count": 299,
   "metadata": {},
   "outputs": [
    {
     "data": {
      "text/plain": [
       "93.12450918921893"
      ]
     },
     "execution_count": 299,
     "metadata": {},
     "output_type": "execute_result"
    }
   ],
   "source": [
    "mse"
   ]
  },
  {
   "cell_type": "code",
   "execution_count": 300,
   "metadata": {},
   "outputs": [
    {
     "data": {
      "text/plain": [
       "-0.365462011572125"
      ]
     },
     "execution_count": 300,
     "metadata": {},
     "output_type": "execute_result"
    }
   ],
   "source": [
    "r_squared = r2_score(y, y_predicted)\n",
    "r_squared"
   ]
  },
  {
   "cell_type": "code",
   "execution_count": 301,
   "metadata": {},
   "outputs": [
    {
     "data": {
      "image/png": "[encoded data removed]",
      "text/plain": [
       "<Figure size 432x288 with 1 Axes>"
      ]
     },
     "metadata": {
      "needs_background": "light"
     },
     "output_type": "display_data"
    }
   ],
   "source": [
    "x = np.arange(iterations)\n",
    "len(a_cost)\n",
    "len(x)\n",
    "plt.plot(x,a_cost)\n",
    "plt.xlabel('Iterations')\n",
    "plt.ylabel('Error')\n",
    "plt.show()"
   ]
  },
  {
   "cell_type": "markdown",
   "metadata": {},
   "source": [
    "# Multiple Linear Regression with using Matrices Only"
   ]
  },
  {
   "cell_type": "code",
   "execution_count": 315,
   "metadata": {},
   "outputs": [
    {
     "data": {
      "text/plain": [
       "array([[1., 1., 5., 4.],\n",
       "       [1., 2., 3., 5.],\n",
       "       [1., 1., 1., 2.],\n",
       "       [1., 5., 5., 5.],\n",
       "       [1., 3., 1., 2.],\n",
       "       [1., 1., 1., 4.],\n",
       "       [1., 2., 2., 1.],\n",
       "       [1., 4., 1., 2.],\n",
       "       [1., 5., 3., 4.],\n",
       "       [1., 4., 2., 3.]])"
      ]
     },
     "execution_count": 315,
     "metadata": {},
     "output_type": "execute_result"
    }
   ],
   "source": [
    "lr = 0.01\n",
    "iterations = 1000\n",
    "n = 10\n",
    "no_of_features = 3\n",
    "X = [ [np.random.randint(1,6) for _ in range(no_of_features)] for _ in range(n)] \n",
    "X = np.array(X)\n",
    "# print(X)    \n",
    "y = [ np.random.randint(1,30) for _ in range(n) ]\n",
    "y = np.array(y)\n",
    "y = y[:,np.newaxis]\n",
    "# print(y)\n",
    "weight = np.zeros(no_of_features+1)\n",
    "weight = weight[:,np.newaxis]\n",
    "\n",
    "ones = np.ones(10)\n",
    "ones = ones[:,np.newaxis]\n",
    "X_new = np.append(ones, X, axis=1)\n",
    "X_new"
   ]
  },
  {
   "cell_type": "code",
   "execution_count": 316,
   "metadata": {},
   "outputs": [],
   "source": [
    " # gradient descent\n",
    "a_cost = []\n",
    "for _ in range(iterations):\n",
    "    \n",
    "    y_predicted = np.dot(X_new, weight)\n",
    "    cost = (1/n)*sum(np.square(y_predicted - y))\n",
    "    a_cost.append(cost)\n",
    "#     print(cost)\n",
    "    # compute gradients\n",
    "    dw = (1 / n) * np.dot(X_new.T, (y_predicted - y))\n",
    "    # update parameters\n",
    "    weight = weight - lr * dw"
   ]
  },
  {
   "cell_type": "code",
   "execution_count": 317,
   "metadata": {},
   "outputs": [
    {
     "data": {
      "text/plain": [
       "array([[19.34628985],\n",
       "       [ 1.4519089 ],\n",
       "       [-2.79695203],\n",
       "       [ 0.37286212]])"
      ]
     },
     "execution_count": 317,
     "metadata": {},
     "output_type": "execute_result"
    }
   ],
   "source": [
    "weight"
   ]
  },
  {
   "cell_type": "code",
   "execution_count": 318,
   "metadata": {},
   "outputs": [
    {
     "data": {
      "image/png": "[encoded data removed]",
      "text/plain": [
       "<Figure size 432x288 with 1 Axes>"
      ]
     },
     "metadata": {
      "needs_background": "light"
     },
     "output_type": "display_data"
    }
   ],
   "source": [
    "x = np.arange(iterations)\n",
    "len(a_cost)\n",
    "len(x)\n",
    "plt.plot(x,a_cost)\n",
    "plt.xlabel('Iterations')\n",
    "plt.ylabel('Error')\n",
    "plt.show()"
   ]
  },
  {
   "cell_type": "code",
   "execution_count": 319,
   "metadata": {},
   "outputs": [
    {
     "data": {
      "text/plain": [
       "65.80650963139387"
      ]
     },
     "execution_count": 319,
     "metadata": {},
     "output_type": "execute_result"
    }
   ],
   "source": [
    "from sklearn.metrics import mean_squared_error, r2_score\n",
    "mse = mean_squared_error(y, y_predicted)\n",
    "mse"
   ]
  },
  {
   "cell_type": "code",
   "execution_count": 320,
   "metadata": {},
   "outputs": [
    {
     "data": {
      "text/plain": [
       "0.2118036934795321"
      ]
     },
     "execution_count": 320,
     "metadata": {},
     "output_type": "execute_result"
    }
   ],
   "source": [
    "r_squared = r2_score(y, y_predicted)\n",
    "r_squared"
   ]
  },
  {
   "cell_type": "code",
   "execution_count": null,
   "metadata": {},
   "outputs": [],
   "source": []
  }
 ],
 "metadata": {
  "kernelspec": {
   "display_name": "Python 3",
   "language": "python",
   "name": "python3"
  },
  "language_info": {
   "codemirror_mode": {
    "name": "ipython",
    "version": 3
   },
   "file_extension": ".py",
   "mimetype": "text/x-python",
   "name": "python",
   "nbconvert_exporter": "python",
   "pygments_lexer": "ipython3",
   "version": "3.7.4"
  }
 },
 "nbformat": 4,
 "nbformat_minor": 2
}
