{
 "cells": [
  {
   "cell_type": "code",
   "execution_count": 11,
   "metadata": {},
   "outputs": [
    {
     "name": "stdout",
     "output_type": "stream",
     "text": [
      "-4.1\n",
      "-3.69\n",
      "-3.321\n",
      "-2.9889\n",
      "-2.69001\n",
      "-2.4210089999999997\n",
      "-2.1789081\n",
      "-1.96101729\n",
      "-1.764915561\n",
      "-1.5884240049000002\n",
      "-1.42958160441\n",
      "-1.2866234439689999\n",
      "-1.1579610995720997\n",
      "-1.0421649896148897\n",
      "-0.9379484906534006\n",
      "final Output:3.1558463584119396\n"
     ]
    },
    {
     "data": {
      "image/png": "[encoded data removed]",
      "text/plain": [
       "<Figure size 432x288 with 1 Axes>"
      ]
     },
     "metadata": {
      "needs_background": "light"
     },
     "output_type": "display_data"
    }
   ],
   "source": [
    "%matplotlib inline\n",
    "import numpy as np \n",
    "import matplotlib.pyplot as plt\n",
    "\n",
    "\n",
    "def nn(input,weight):\n",
    "    return input*weight\n",
    "\n",
    "def update_w(weight,slope,input,alpha):\n",
    "    weight = weight - input*slope*alpha\n",
    "    print(slope)\n",
    "    return weight\n",
    "    \n",
    "\n",
    "def error(prediction,output):\n",
    "    return (prediction - output)**2\n",
    "output = 4\n",
    "input = -1\n",
    "weight = 0.1\n",
    "delta = 0.02\n",
    "alpha = 0.1\n",
    "e_1=[]\n",
    "w_1=[]\n",
    "e = 0\n",
    "for i in range(15):\n",
    "    w_1.append(weight)\n",
    "    prev = e\n",
    "    e = error(nn(input,weight),output)\n",
    "    distance = e - prev\n",
    "    #print(str(e)+\"\\n\")\n",
    "    e_1.append(e)\n",
    "    slope = nn(input,weight) - output\n",
    "    weight = update_w(weight,slope,input,alpha)\n",
    "    \n",
    "print(\"final Output:\"+str(nn(input,weight)))\n",
    "\n",
    "t1 = np.arange(-4, 1, 0.01)\n",
    "plt.figure()\n",
    "#plt.subplot(211)\n",
    "plt.xlabel('Weights', fontsize=18)\n",
    "plt.ylabel('Error', fontsize=16)\n",
    "plt.plot(t1, error(t1*input,output))\n",
    "plt.plot(w_1,e_1,'ro',markersize=5);"
   ]
  },
  {
   "cell_type": "code",
   "execution_count": null,
   "metadata": {},
   "outputs": [],
   "source": []
  }
 ],
 "metadata": {
  "kernelspec": {
   "display_name": "Python 3",
   "language": "python",
   "name": "python3"
  },
  "language_info": {
   "codemirror_mode": {
    "name": "ipython",
    "version": 3
   },
   "file_extension": ".py",
   "mimetype": "text/x-python",
   "name": "python",
   "nbconvert_exporter": "python",
   "pygments_lexer": "ipython3",
   "version": "3.7.4"
  }
 },
 "nbformat": 4,
 "nbformat_minor": 2
}
