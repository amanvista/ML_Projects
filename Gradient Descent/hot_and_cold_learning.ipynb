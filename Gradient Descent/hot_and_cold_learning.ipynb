{
 "cells": [
  {
   "cell_type": "code",
   "execution_count": 23,
   "metadata": {},
   "outputs": [
    {
     "name": "stdout",
     "output_type": "stream",
     "text": [
      "1 4\n"
     ]
    }
   ],
   "source": [
    "input = 1\n",
    "output = 4\n",
    "print(input,output)"
   ]
  },
  {
   "cell_type": "code",
   "execution_count": 24,
   "metadata": {},
   "outputs": [
    {
     "data": {
      "text/plain": [
       "0.01"
      ]
     },
     "execution_count": 24,
     "metadata": {},
     "output_type": "execute_result"
    }
   ],
   "source": [
    "weight = 0.01\n",
    "poutput = input*weight\n",
    "poutput"
   ]
  },
  {
   "cell_type": "code",
   "execution_count": 25,
   "metadata": {},
   "outputs": [
    {
     "data": {
      "text/plain": [
       "15.920100000000001"
      ]
     },
     "execution_count": 25,
     "metadata": {},
     "output_type": "execute_result"
    }
   ],
   "source": [
    "def error(poutput,output):\n",
    "    error = (poutput - output)**2\n",
    "    return error\n",
    "error(poutput,output)"
   ]
  },
  {
   "cell_type": "code",
   "execution_count": 77,
   "metadata": {},
   "outputs": [],
   "source": [
    "step = 0.3\n",
    "forward = input*(weight + step)\n",
    "backward = input*(weight - step)"
   ]
  },
  {
   "cell_type": "code",
   "execution_count": 78,
   "metadata": {},
   "outputs": [
    {
     "data": {
      "text/plain": [
       "0.008100000000000215"
      ]
     },
     "execution_count": 78,
     "metadata": {},
     "output_type": "execute_result"
    }
   ],
   "source": [
    "error(forward,output)"
   ]
  },
  {
   "cell_type": "code",
   "execution_count": 79,
   "metadata": {},
   "outputs": [
    {
     "data": {
      "text/plain": [
       "0.47610000000000113"
      ]
     },
     "execution_count": 79,
     "metadata": {},
     "output_type": "execute_result"
    }
   ],
   "source": [
    "error(backward,output)"
   ]
  },
  {
   "cell_type": "code",
   "execution_count": 80,
   "metadata": {},
   "outputs": [],
   "source": [
    "weight = weight + step"
   ]
  },
  {
   "cell_type": "code",
   "execution_count": 82,
   "metadata": {},
   "outputs": [
    {
     "data": {
      "text/plain": [
       "3.909999999999999"
      ]
     },
     "execution_count": 82,
     "metadata": {},
     "output_type": "execute_result"
    }
   ],
   "source": [
    "output = input*weight\n",
    "output"
   ]
  },
  {
   "cell_type": "code",
   "execution_count": 93,
   "metadata": {},
   "outputs": [
    {
     "name": "stdout",
     "output_type": "stream",
     "text": [
      "15.920100000000001\n",
      "1 8.940100000000001\n",
      "2 3.960100000000001\n",
      "3 0.9801000000000004\n",
      "4 9.999999999999574e-05\n",
      "4 4 4\n"
     ]
    }
   ],
   "source": [
    "input = 1\n",
    "output = 4\n",
    "weight = 0.01\n",
    "step = 1\n",
    "iterations = 0\n",
    "mse = error(input*weight,output)\n",
    "print(mse)\n",
    "while(mse > 0.01):\n",
    "    iterations += 1\n",
    "    forward = input*(weight + step)\n",
    "    backward = input*(weight - step)\n",
    "    forward_error = error(forward,output)\n",
    "    backward_error = error(backward,output)\n",
    "    if(forward_error > backward_error):\n",
    "        weight = weight - step\n",
    "        mse = backward_error\n",
    "    else:\n",
    "        weight = weight + step\n",
    "        mse = forward_error\n",
    "    print(iterations, mse)\n",
    "print(iterations,output,input*output)"
   ]
  },
  {
   "cell_type": "code",
   "execution_count": null,
   "metadata": {},
   "outputs": [],
   "source": []
  },
  {
   "cell_type": "code",
   "execution_count": null,
   "metadata": {},
   "outputs": [],
   "source": []
  }
 ],
 "metadata": {
  "kernelspec": {
   "display_name": "Python 3",
   "language": "python",
   "name": "python3"
  },
  "language_info": {
   "codemirror_mode": {
    "name": "ipython",
    "version": 3
   },
   "file_extension": ".py",
   "mimetype": "text/x-python",
   "name": "python",
   "nbconvert_exporter": "python",
   "pygments_lexer": "ipython3",
   "version": "3.7.4"
  }
 },
 "nbformat": 4,
 "nbformat_minor": 2
}
